{
 "cells": [
  {
   "cell_type": "code",
   "execution_count": 3,
   "metadata": {},
   "outputs": [
    {
     "name": "stdout",
     "output_type": "stream",
     "text": [
      "enter your physics marks80\n",
      "enter your maths marks94\n",
      "enter your computer marks89\n",
      "enter yout islamiat marks82\n",
      "enter your english marks75\n",
      "percentage :  84.0\n",
      "grade A\n"
     ]
    }
   ],
   "source": [
    "phy = input(\"enter your physics marks\")\n",
    "math = input(\"enter your maths marks\")\n",
    "comp = input(\"enter your computer marks\")\n",
    "isl = input(\"enter yout islamiat marks\")\n",
    "eng = input(\"enter your english marks\")\n",
    "\n",
    "total = 500;\n",
    "sum = int(phy) + int(math) + int(comp) + int(isl) + int(eng);\n",
    "\n",
    "per = (sum*100) / total;\n",
    "print(\"percentage : \" , per)\n",
    "\n",
    "if(per >= 90):\n",
    "    print(\"grade A+\")\n",
    "elif(per >= 80 and per <= 89):\n",
    "    print(\"grade A\")\n",
    "elif(per >= 70 and per <= 79):\n",
    "    print(\"grade B\")\n",
    "elif(per >= 60 and per <= 69):\n",
    "    print(\"grade C\")\n",
    "elif(per >=50 and per <= 59):\n",
    "   print(\"grade D\")\n",
    "else :\n",
    "    print(\"fail\")"
   ]
  },
  {
   "cell_type": "code",
   "execution_count": 4,
   "metadata": {},
   "outputs": [
    {
     "name": "stdout",
     "output_type": "stream",
     "text": [
      "enter a number : 5\n",
      "odd number\n"
     ]
    }
   ],
   "source": [
    "num = int(input(\"enter a number : \"))\n",
    "value = num % 2\n",
    "if value > 0 :\n",
    "    print(\"odd number\")\n",
    "else :\n",
    "    print(\"even number\")"
   ]
  },
  {
   "cell_type": "code",
   "execution_count": 5,
   "metadata": {},
   "outputs": [
    {
     "name": "stdout",
     "output_type": "stream",
     "text": [
      "length of the list is :  6\n"
     ]
    }
   ],
   "source": [
    "num = len([10, 20, 30,40, 50, 60,])\n",
    "print(\"length of the list is : \", num)"
   ]
  },
  {
   "cell_type": "code",
   "execution_count": 12,
   "metadata": {},
   "outputs": [
    {
     "name": "stdout",
     "output_type": "stream",
     "text": [
      "sum of list= 149\n"
     ]
    }
   ],
   "source": [
    "list=[10,20,38,1,80]\n",
    "x=len(list)\n",
    "sum=0\n",
    "for i in range (x):\n",
    "    sum=sum+list[i]\n",
    "print(\"sum of list=\",sum)"
   ]
  },
  {
   "cell_type": "code",
   "execution_count": 15,
   "metadata": {},
   "outputs": [
    {
     "name": "stdout",
     "output_type": "stream",
     "text": [
      "90\n"
     ]
    }
   ],
   "source": [
    "list=[20,69,40,90,65]\n",
    "print(max(list))"
   ]
  },
  {
   "cell_type": "code",
   "execution_count": 16,
   "metadata": {},
   "outputs": [
    {
     "name": "stdout",
     "output_type": "stream",
     "text": [
      "1\n",
      "1\n",
      "2\n",
      "3\n"
     ]
    }
   ],
   "source": [
    "list=[1,1,2,3,5,8,13,21,34,55,89]\n",
    "x=len(list)\n",
    "for i in range(x):\n",
    "    if list[i]<5:\n",
    "        print(list[i])"
   ]
  }
 ],
 "metadata": {
  "kernelspec": {
   "display_name": "Python 3",
   "language": "python",
   "name": "python3"
  },
  "language_info": {
   "codemirror_mode": {
    "name": "ipython",
    "version": 3
   },
   "file_extension": ".py",
   "mimetype": "text/x-python",
   "name": "python",
   "nbconvert_exporter": "python",
   "pygments_lexer": "ipython3",
   "version": "3.7.4"
  }
 },
 "nbformat": 4,
 "nbformat_minor": 2
}
