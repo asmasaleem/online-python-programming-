{
 "cells": [
  {
   "cell_type": "code",
   "execution_count": 1,
   "metadata": {},
   "outputs": [
    {
     "name": "stdout",
     "output_type": "stream",
     "text": [
      "Twinkle, twinkle, little star,\n",
      "    How I wonder what you are!\n",
      "                Up above the world so high,\n",
      "                Like a diamond in the sky.\n",
      "Twinkle, twinkle, little star,\n",
      "    How I wonder what you are!\n"
     ]
    }
   ],
   "source": [
    "#Question No.1\n",
    "line1 = \"Twinkle, twinkle, little star,\"\n",
    "line2 = \"    How I wonder what you are!\"\n",
    "line3 = \"                Up above the world so high,\"\n",
    "line4 = \"                Like a diamond in the sky.\"\n",
    "print (line1)\n",
    "print (line2)\n",
    "print (line3)\n",
    "print (line4)\n",
    "print (line1)\n",
    "print (line2)"
   ]
  },
  {
   "cell_type": "code",
   "execution_count": 2,
   "metadata": {},
   "outputs": [
    {
     "name": "stdout",
     "output_type": "stream",
     "text": [
      "3.7.4 (default, Aug  9 2019, 18:34:13) [MSC v.1915 64 bit (AMD64)]\n"
     ]
    }
   ],
   "source": [
    "#Question No.2\n",
    "import sys\n",
    "print (sys.version)"
   ]
  },
  {
   "cell_type": "code",
   "execution_count": 3,
   "metadata": {},
   "outputs": [
    {
     "name": "stdout",
     "output_type": "stream",
     "text": [
      "Current Date: 2019-11-14\n",
      "Current Time: 23:10:36\n"
     ]
    }
   ],
   "source": [
    "#Question No.3\n",
    "import datetime\n",
    "now = datetime.datetime.now()\n",
    "print (now.strftime(\"Current Date: %Y-%m-%d\"))\n",
    "print (now.strftime(\"Current Time: %H:%M:%S\"))"
   ]
  },
  {
   "cell_type": "code",
   "execution_count": 4,
   "metadata": {},
   "outputs": [
    {
     "name": "stdout",
     "output_type": "stream",
     "text": [
      "Enter radius of the circle: 4\n",
      "The area of circle is 50.256\n"
     ]
    }
   ],
   "source": [
    "#Question No.4\n",
    "pi = 3.141\n",
    "radius = float(input(\"Enter radius of the circle: \"))\n",
    "area = pi * radius**2\n",
    "print (\"The area of circle is\", area)"
   ]
  },
  {
   "cell_type": "code",
   "execution_count": 5,
   "metadata": {},
   "outputs": [
    {
     "name": "stdout",
     "output_type": "stream",
     "text": [
      "Your First Name is: asma\n",
      "Your Last Name is: saleem\n",
      "Your name in reverse order is 'saleem asma'\n"
     ]
    }
   ],
   "source": [
    "#Question No.5\n",
    "first_name = input(\"Your First Name is: \")\n",
    "last_name = input(\"Your Last Name is: \")\n",
    "print (\"Your name in reverse order is \" + \"'\" + last_name + \" \" + first_name + \"'\")"
   ]
  },
  {
   "cell_type": "code",
   "execution_count": 6,
   "metadata": {},
   "outputs": [
    {
     "name": "stdout",
     "output_type": "stream",
     "text": [
      "Your first number: 4\n",
      "Your second number: 70\n"
     ]
    },
    {
     "data": {
      "text/plain": [
       "74"
      ]
     },
     "execution_count": 6,
     "metadata": {},
     "output_type": "execute_result"
    }
   ],
   "source": [
    "#Question No.6\n",
    "num_1 = int(input(\"Your first number: \"))\n",
    "num_2 = int(input(\"Your second number: \"))\n",
    "result = num_1 + num_2\n",
    "result\n"
   ]
  },
  {
   "cell_type": "code",
   "execution_count": null,
   "metadata": {},
   "outputs": [],
   "source": []
  }
 ],
 "metadata": {
  "kernelspec": {
   "display_name": "Python 3",
   "language": "python",
   "name": "python3"
  },
  "language_info": {
   "codemirror_mode": {
    "name": "ipython",
    "version": 3
   },
   "file_extension": ".py",
   "mimetype": "text/x-python",
   "name": "python",
   "nbconvert_exporter": "python",
   "pygments_lexer": "ipython3",
   "version": "3.7.4"
  }
 },
 "nbformat": 4,
 "nbformat_minor": 2
}
