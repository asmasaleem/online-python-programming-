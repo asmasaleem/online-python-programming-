{
 "cells": [
  {
   "cell_type": "code",
   "execution_count": 1,
   "metadata": {},
   "outputs": [
    {
     "name": "stdout",
     "output_type": "stream",
     "text": [
      "Twinkle, twinkle, little star,\n",
      "    How I wonder what you are!\n",
      "                Up above the world so high,\n",
      "                Like a diamond in the sky.\n",
      "Twinkle, twinkle, little star,\n",
      "    How I wonder what you are!\n"
     ]
    }
   ],
   "source": [
    "#Question No.1\n",
    "line1 = \"Twinkle, twinkle, little star,\"\n",
    "line2 = \"    How I wonder what you are!\"\n",
    "line3 = \"                Up above the world so high,\"\n",
    "line4 = \"                Like a diamond in the sky.\"\n",
    "print (line1)\n",
    "print (line2)\n",
    "print (line3)\n",
    "print (line4)\n",
    "print (line1)\n",
    "print (line2)"
   ]
  },
  {
   "cell_type": "code",
   "execution_count": 2,
   "metadata": {},
   "outputs": [
    {
     "name": "stdout",
     "output_type": "stream",
     "text": [
      "3.7.4 (default, Aug  9 2019, 18:34:13) [MSC v.1915 64 bit (AMD64)]\n"
     ]
    }
   ],
   "source": [
    "#Question No.2\n",
    "import sys\n",
    "print (sys.version)"
   ]
  },
  {
   "cell_type": "code",
   "execution_count": 3,
   "metadata": {},
   "outputs": [
    {
     "name": "stdout",
     "output_type": "stream",
     "text": [
      "Current Date: 2019-11-15\n",
      "Current Time: 22:34:04\n"
     ]
    }
   ],
   "source": [
    "#Question No.3\n",
    "import datetime\n",
    "now = datetime.datetime.now()\n",
    "print (now.strftime(\"Current Date: %Y-%m-%d\"))\n",
    "print (now.strftime(\"Current Time: %H:%M:%S\"))"
   ]
  },
  {
   "cell_type": "code",
   "execution_count": 4,
   "metadata": {},
   "outputs": [
    {
     "name": "stdout",
     "output_type": "stream",
     "text": [
      "Enter radius of the circle: 4\n",
      "The area of circle is 50.256\n"
     ]
    }
   ],
   "source": [
    "#Question No.4\n",
    "pi = 3.141\n",
    "radius = float(input(\"Enter radius of the circle: \"))\n",
    "area = pi * radius**2\n",
    "print (\"The area of circle is\", area)"
   ]
  },
  {
   "cell_type": "code",
   "execution_count": 5,
   "metadata": {},
   "outputs": [
    {
     "name": "stdout",
     "output_type": "stream",
     "text": [
      "Your First Name is: asma\n",
      "Your Last Name is: saleem\n",
      "Your name in reverse order is 'saleem asma'\n"
     ]
    }
   ],
   "source": [
    "#Question No.5\n",
    "first_name = input(\"Your First Name is: \")\n",
    "last_name = input(\"Your Last Name is: \")\n",
    "print (\"Your name in reverse order is \" + \"'\" + last_name + \" \" + first_name + \"'\")"
   ]
  },
  {
   "cell_type": "code",
   "execution_count": 6,
   "metadata": {},
   "outputs": [
    {
     "name": "stdout",
     "output_type": "stream",
     "text": [
      "Your first number: 10\n",
      "Your second number: 20\n"
     ]
    },
    {
     "data": {
      "text/plain": [
       "30"
      ]
     },
     "execution_count": 6,
     "metadata": {},
     "output_type": "execute_result"
    }
   ],
   "source": [
    "#Question No.6\n",
    "num_1 = int(input(\"Your first number: \"))\n",
    "num_2 = int(input(\"Your second number: \"))\n",
    "result = num_1 + num_2\n",
    "result"
   ]
  },
  {
   "cell_type": "code",
   "execution_count": 7,
   "metadata": {},
   "outputs": [
    {
     "name": "stdout",
     "output_type": "stream",
     "text": [
      "enter your physics marks80\n",
      "enter your maths marks92\n",
      "enter your computer marks96\n",
      "enter yout islamiat marks75\n",
      "enter your english marks80\n",
      "percentage :  84.6\n",
      "grade A\n"
     ]
    }
   ],
   "source": [
    "phy = input(\"enter your physics marks\")\n",
    "math = input(\"enter your maths marks\")\n",
    "comp = input(\"enter your computer marks\")\n",
    "isl = input(\"enter yout islamiat marks\")\n",
    "eng = input(\"enter your english marks\")\n",
    "\n",
    "total = 500;\n",
    "sum = int(phy) + int(math) + int(comp) + int(isl) + int(eng);\n",
    "\n",
    "per = (sum*100) / total;\n",
    "print(\"percentage : \" , per)\n",
    "\n",
    "if(per >= 90):\n",
    "    print(\"grade A+\")\n",
    "elif(per >= 80 and per <= 89):\n",
    "    print(\"grade A\")\n",
    "elif(per >= 70 and per <= 79):\n",
    "    print(\"grade B\")\n",
    "elif(per >= 60 and per <= 69):\n",
    "    print(\"grade C\")\n",
    "elif(per >=50 and per <= 59):\n",
    "   print(\"grade D\")\n",
    "else :\n",
    "    print(\"fail\")"
   ]
  },
  {
   "cell_type": "code",
   "execution_count": 8,
   "metadata": {},
   "outputs": [
    {
     "name": "stdout",
     "output_type": "stream",
     "text": [
      "enter a number : 5\n",
      "odd number\n"
     ]
    }
   ],
   "source": [
    "num = int(input(\"enter a number : \"))\n",
    "value = num % 2\n",
    "if value > 0 :\n",
    "    print(\"odd number\")\n",
    "else :\n",
    "    print(\"even number\")"
   ]
  },
  {
   "cell_type": "code",
   "execution_count": 9,
   "metadata": {},
   "outputs": [
    {
     "name": "stdout",
     "output_type": "stream",
     "text": [
      "length of the list is :  6\n"
     ]
    }
   ],
   "source": [
    "num = len([10, 20, 30,40, 50, 60,])\n",
    "print(\"length of the list is : \", num)"
   ]
  },
  {
   "cell_type": "code",
   "execution_count": 10,
   "metadata": {},
   "outputs": [
    {
     "name": "stdout",
     "output_type": "stream",
     "text": [
      "sum of list= 149\n"
     ]
    }
   ],
   "source": [
    "list=[10,20,38,1,80]\n",
    "x=len(list)\n",
    "sum=0\n",
    "for i in range (x):\n",
    "    sum=sum+list[i]\n",
    "print(\"sum of list=\",sum)"
   ]
  },
  {
   "cell_type": "code",
   "execution_count": 11,
   "metadata": {},
   "outputs": [
    {
     "name": "stdout",
     "output_type": "stream",
     "text": [
      "90\n"
     ]
    }
   ],
   "source": [
    "list=[20,69,40,90,65]\n",
    "print(max(list))"
   ]
  },
  {
   "cell_type": "code",
   "execution_count": 12,
   "metadata": {},
   "outputs": [
    {
     "name": "stdout",
     "output_type": "stream",
     "text": [
      "1\n",
      "1\n",
      "2\n",
      "3\n"
     ]
    }
   ],
   "source": [
    "list=[1,1,2,3,5,8,13,21,34,55,89]\n",
    "x=len(list)\n",
    "for i in range(x):\n",
    "    if list[i]<5:\n",
    "        print(list[i])"
   ]
  },
  {
   "cell_type": "code",
   "execution_count": null,
   "metadata": {},
   "outputs": [],
   "source": []
  }
 ],
 "metadata": {
  "kernelspec": {
   "display_name": "Python 3",
   "language": "python",
   "name": "python3"
  },
  "language_info": {
   "codemirror_mode": {
    "name": "ipython",
    "version": 3
   },
   "file_extension": ".py",
   "mimetype": "text/x-python",
   "name": "python",
   "nbconvert_exporter": "python",
   "pygments_lexer": "ipython3",
   "version": "3.7.4"
  }
 },
 "nbformat": 4,
 "nbformat_minor": 2
}
