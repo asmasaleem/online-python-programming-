{
 "cells": [
  {
   "cell_type": "code",
   "execution_count": 1,
   "metadata": {},
   "outputs": [
    {
     "name": "stdout",
     "output_type": "stream",
     "text": [
      "Twinkle, twinkle, little star,\n",
      "    How I wonder what you are!\n",
      "                Up above the world so high,\n",
      "                Like a diamond in the sky.\n",
      "Twinkle, twinkle, little star,\n",
      "    How I wonder what you are!\n"
     ]
    }
   ],
   "source": [
    "#Question No.1\n",
    "line1 = \"Twinkle, twinkle, little star,\"\n",
    "line2 = \"    How I wonder what you are!\"\n",
    "line3 = \"                Up above the world so high,\"\n",
    "line4 = \"                Like a diamond in the sky.\"\n",
    "print (line1)\n",
    "print (line2)\n",
    "print (line3)\n",
    "print (line4)\n",
    "print (line1)\n",
    "print (line2)"
   ]
  },
  {
   "cell_type": "code",
   "execution_count": 2,
   "metadata": {},
   "outputs": [
    {
     "name": "stdout",
     "output_type": "stream",
     "text": [
      "3.7.4 (default, Aug  9 2019, 18:34:13) [MSC v.1915 64 bit (AMD64)]\n"
     ]
    }
   ],
   "source": [
    "#Question No.2\n",
    "import sys\n",
    "print (sys.version)"
   ]
  },
  {
   "cell_type": "code",
   "execution_count": 3,
   "metadata": {},
   "outputs": [
    {
     "name": "stdout",
     "output_type": "stream",
     "text": [
      "Current Date: 2019-11-14\n",
      "Current Time: 23:10:36\n"
     ]
    }
   ],
   "source": [
    "#Question No.3\n",
    "import datetime\n",
    "now = datetime.datetime.now()\n",
    "print (now.strftime(\"Current Date: %Y-%m-%d\"))\n",
    "print (now.strftime(\"Current Time: %H:%M:%S\"))"
   ]
  },
  {
   "cell_type": "code",
   "execution_count": 4,
   "metadata": {},
   "outputs": [
    {
     "name": "stdout",
     "output_type": "stream",
     "text": [
      "Enter radius of the circle: 4\n",
      "The area of circle is 50.256\n"
     ]
    }
   ],
   "source": [
    "#Question No.4\n",
    "pi = 3.141\n",
    "radius = float(input(\"Enter radius of the circle: \"))\n",
    "area = pi * radius**2\n",
    "print (\"The area of circle is\", area)"
   ]
  },
  {
   "cell_type": "code",
   "execution_count": 5,
   "metadata": {},
   "outputs": [
    {
     "name": "stdout",
     "output_type": "stream",
     "text": [
      "Your First Name is: asma\n",
      "Your Last Name is: saleem\n",
      "Your name in reverse order is 'saleem asma'\n"
     ]
    }
   ],
   "source": [
    "#Question No.5\n",
    "first_name = input(\"Your First Name is: \")\n",
    "last_name = input(\"Your Last Name is: \")\n",
    "print (\"Your name in reverse order is \" + \"'\" + last_name + \" \" + first_name + \"'\")"
   ]
  },
  {
   "cell_type": "code",
   "execution_count": 6,
   "metadata": {},
   "outputs": [
    {
     "name": "stdout",
     "output_type": "stream",
     "text": [
      "Your first number: 4\n",
      "Your second number: 70\n"
     ]
    },
    {
     "data": {
      "text/plain": [
       "74"
      ]
     },
     "execution_count": 6,
     "metadata": {},
     "output_type": "execute_result"
    }
   ],
   "source": [
    "#Question No.6\n",
    "num_1 = int(input(\"Your first number: \"))\n",
    "num_2 = int(input(\"Your second number: \"))\n",
    "result = num_1 + num_2\n",
    "result\n"
   ]
  },
  {
   "cell_type": "code",
   "execution_count": 1,
   "metadata": {},
   "outputs": [
    {
     "name": "stdout",
     "output_type": "stream",
     "text": [
      "enter your physics marks79\n",
      "enter your maths marks90\n",
      "enter your computer marks94\n",
      "enter yout islamiat marks80\n",
      "enter your english marks85\n",
      "percentage :  85.6\n",
      "grade A\n"
     ]
    }
   ],
   "source": [
    "phy = input(\"enter your physics marks\")\n",
    "math = input(\"enter your maths marks\")\n",
    "comp = input(\"enter your computer marks\")\n",
    "isl = input(\"enter yout islamiat marks\")\n",
    "eng = input(\"enter your english marks\")\n",
    "\n",
    "total = 500;\n",
    "sum = int(phy) + int(math) + int(comp) + int(isl) + int(eng);\n",
    "\n",
    "per = (sum*100) / total;\n",
    "print(\"percentage : \" , per)\n",
    "\n",
    "if(per >= 90):\n",
    "    print(\"grade A+\")\n",
    "elif(per >= 80 and per <= 89):\n",
    "    print(\"grade A\")\n",
    "elif(per >= 70 and per <= 79):\n",
    "    print(\"grade B\")\n",
    "elif(per >= 60 and per <= 69):\n",
    "    print(\"grade C\")\n",
    "elif(per >=50 and per <= 59):\n",
    "   print(\"grade D\")\n",
    "else :\n",
    "    print(\"fail\")"
   ]
  },
  {
   "cell_type": "code",
   "execution_count": 2,
   "metadata": {},
   "outputs": [
    {
     "name": "stdout",
     "output_type": "stream",
     "text": [
      "enter a number : 5\n",
      "odd number\n"
     ]
    }
   ],
   "source": [
    "num = int(input(\"enter a number : \"))\n",
    "value = num % 2\n",
    "if value > 0 :\n",
    "    print(\"odd number\")\n",
    "else :\n",
    "    print(\"even number\")"
   ]
  },
  {
   "cell_type": "code",
   "execution_count": 3,
   "metadata": {},
   "outputs": [
    {
     "name": "stdout",
     "output_type": "stream",
     "text": [
      "length of the list is :  6\n"
     ]
    }
   ],
   "source": [
    "num = len([10, 20, 30,40, 50, 60,])\n",
    "print(\"length of the list is : \", num)"
   ]
  },
  {
   "cell_type": "code",
   "execution_count": 4,
   "metadata": {},
   "outputs": [
    {
     "name": "stdout",
     "output_type": "stream",
     "text": [
      "sum of list= 149\n"
     ]
    }
   ],
   "source": [
    "list=[10,20,38,1,80]\n",
    "x=len(list)\n",
    "sum=0\n",
    "for i in range (x):\n",
    "    sum=sum+list[i]\n",
    "print(\"sum of list=\",sum)"
   ]
  },
  {
   "cell_type": "code",
   "execution_count": 5,
   "metadata": {},
   "outputs": [
    {
     "name": "stdout",
     "output_type": "stream",
     "text": [
      "90\n"
     ]
    }
   ],
   "source": [
    "list=[20,69,40,90,65]\n",
    "print(max(list))"
   ]
  },
  {
   "cell_type": "code",
   "execution_count": 6,
   "metadata": {},
   "outputs": [
    {
     "name": "stdout",
     "output_type": "stream",
     "text": [
      "1\n",
      "1\n",
      "2\n",
      "3\n"
     ]
    }
   ],
   "source": [
    "list=[1,1,2,3,5,8,13,21,34,55,89]\n",
    "x=len(list)\n",
    "for i in range(x):\n",
    "    if list[i]<5:\n",
    "        print(list[i])"
   ]
  },
  {
   "cell_type": "code",
   "execution_count": 4,
   "metadata": {},
   "outputs": [
    {
     "name": "stdout",
     "output_type": "stream",
     "text": [
      "Sum : 600\n"
     ]
    }
   ],
   "source": [
    "#question 4\n",
    "def returnSum(myDict): \n",
    "      \n",
    "    sum = 0\n",
    "    for i in myDict: \n",
    "        sum = sum + myDict[i] \n",
    "      \n",
    "    return sum\n",
    "  \n",
    "# Driver Function \n",
    "dict = {'a': 100, 'b':200, 'c':300} \n",
    "print(\"Sum :\", returnSum(dict)) "
   ]
  },
  {
   "cell_type": "code",
   "execution_count": 5,
   "metadata": {},
   "outputs": [
    {
     "name": "stdout",
     "output_type": "stream",
     "text": [
      "[20, 30, -20, 60]\n"
     ]
    }
   ],
   "source": [
    "#question 5\n",
    "def Repeat(x): \n",
    "    _size = len(x) \n",
    "    repeated = [] \n",
    "    for i in range(_size): \n",
    "        k = i + 1\n",
    "        for j in range(k, _size): \n",
    "            if x[i] == x[j] and x[i] not in repeated: \n",
    "                repeated.append(x[i]) \n",
    "    return repeated \n",
    "   \n",
    "list1 = [10, 20, 30, 20, 20, 30, 40,  \n",
    "         50, -20, 60, 60, -20, -20] \n",
    "print (Repeat(list1)) "
   ]
  },
  {
   "cell_type": "code",
   "execution_count": 6,
   "metadata": {},
   "outputs": [
    {
     "name": "stdout",
     "output_type": "stream",
     "text": [
      "Key is present in the dictionary\n",
      "Key is not present in the dictionary\n"
     ]
    }
   ],
   "source": [
    "#question 6\n",
    "d = {1: 10, 2: 20, 3: 30, 4: 40, 5: 50, 6: 60}\n",
    "def is_key_present(x):\n",
    "  if x in d:\n",
    "      print('Key is present in the dictionary')\n",
    "  else:\n",
    "      print('Key is not present in the dictionary')\n",
    "is_key_present(5)\n",
    "is_key_present(9)\n"
   ]
  },
  {
   "cell_type": "code",
   "execution_count": 1,
   "metadata": {},
   "outputs": [
    {
     "name": "stdout",
     "output_type": "stream",
     "text": [
      "Enter your first number: 5\n",
      "Enter your second number: 4\n",
      "5 + 4 = \n",
      "9\n",
      "5 - 4 = \n",
      "1\n",
      "5 * 4 = \n",
      "20\n",
      "5 / 4 = \n",
      "1.25\n",
      " Please Enter any Positive Integer : 5\n",
      " Please Enter Exponent Value : 3\n",
      "The Result of 5 Power 3 = 125\n"
     ]
    }
   ],
   "source": [
    "#Question No.1\n",
    "number_1 = int(input('Enter your first number: '))\n",
    "number_2 = int(input('Enter your second number: '))\n",
    "\n",
    "# Addition\n",
    "print('{} + {} = '.format(number_1, number_2))\n",
    "print(number_1 + number_2)\n",
    "\n",
    "# Subtraction\n",
    "print('{} - {} = '.format(number_1, number_2))\n",
    "print(number_1 - number_2)\n",
    "\n",
    "# Multiplication\n",
    "print('{} * {} = '.format(number_1, number_2))\n",
    "print(number_1 * number_2)\n",
    "\n",
    "# Division\n",
    "print('{} / {} = '.format(number_1, number_2))\n",
    "print(number_1 / number_2)\n",
    "number = int(input(\" Please Enter any Positive Integer : \"))\n",
    "exponent = int(input(\" Please Enter Exponent Value : \"))\n",
    "power = 1\n",
    "\n",
    "for i in range(1, exponent + 1):\n",
    "    power = power * number\n",
    "    \n",
    "print(\"The Result of {0} Power {1} = {2}\".format(number, exponent, power))"
   ]
  },
  {
   "cell_type": "code",
   "execution_count": 2,
   "metadata": {},
   "outputs": [
    {
     "name": "stdout",
     "output_type": "stream",
     "text": [
      "Checking if 4 exists in list ( using loop ) : \n",
      "Element Exists\n",
      "Checking if 4 exists in list ( using in ) : \n",
      "Element Exists\n"
     ]
    }
   ],
   "source": [
    "##question 2\n",
    "test_list = [ 1, 6, 3, 5, 3, 4 ] \n",
    "  \n",
    "print(\"Checking if 4 exists in list ( using loop ) : \") \n",
    "  \n",
    "# Checking if 4 exists in list  \n",
    "# using loop \n",
    "for i in test_list: \n",
    "    if(i == 4) : \n",
    "        print (\"Element Exists\") \n",
    "  \n",
    "print(\"Checking if 4 exists in list ( using in ) : \") \n",
    "  \n",
    "# Checking if 4 exists in list  \n",
    "# using in \n",
    "if (4 in test_list): \n",
    "    print (\"Element Exists\") "
   ]
  },
  {
   "cell_type": "code",
   "execution_count": 3,
   "metadata": {},
   "outputs": [
    {
     "name": "stdout",
     "output_type": "stream",
     "text": [
      "{'fist name': 'asma', 'last name': 'saleem', 'address': 'R#470', 'gender': 'female'}\n"
     ]
    }
   ],
   "source": [
    "##question 3\n",
    "costumer = {\n",
    "    \"fist name\": \"asma\",\n",
    "    \"last name\": \"saleem\",\n",
    "    \"address\": \"R#470\"\n",
    "}\n",
    "costumer[\"gender\"] = 'female'\n",
    "print(costumer)"
   ]
  },
  {
   "cell_type": "code",
   "execution_count": 4,
   "metadata": {},
   "outputs": [
    {
     "name": "stdout",
     "output_type": "stream",
     "text": [
      "Sum : 600\n"
     ]
    }
   ],
   "source": [
    "#question 4\n",
    "def returnSum(myDict): \n",
    "      \n",
    "    sum = 0\n",
    "    for i in myDict: \n",
    "        sum = sum + myDict[i] \n",
    "      \n",
    "    return sum\n",
    "  \n",
    "# Driver Function \n",
    "dict = {'a': 100, 'b':200, 'c':300} \n",
    "print(\"Sum :\", returnSum(dict)) "
   ]
  },
  {
   "cell_type": "code",
   "execution_count": 5,
   "metadata": {},
   "outputs": [
    {
     "name": "stdout",
     "output_type": "stream",
     "text": [
      "[20, 30, -20, 60]\n"
     ]
    }
   ],
   "source": [
    "#question 5\n",
    "def Repeat(x): \n",
    "    _size = len(x) \n",
    "    repeated = [] \n",
    "    for i in range(_size): \n",
    "        k = i + 1\n",
    "        for j in range(k, _size): \n",
    "            if x[i] == x[j] and x[i] not in repeated: \n",
    "                repeated.append(x[i]) \n",
    "    return repeated \n",
    "   \n",
    "list1 = [10, 20, 30, 20, 20, 30, 40,  \n",
    "         50, -20, 60, 60, -20, -20] \n",
    "print (Repeat(list1)) "
   ]
  },
  {
   "cell_type": "code",
   "execution_count": 6,
   "metadata": {},
   "outputs": [
    {
     "name": "stdout",
     "output_type": "stream",
     "text": [
      "Key is present in the dictionary\n",
      "Key is not present in the dictionary\n"
     ]
    }
   ],
   "source": [
    "#question 6\n",
    "d = {1: 10, 2: 20, 3: 30, 4: 40, 5: 50, 6: 60}\n",
    "def is_key_present(x):\n",
    "  if x in d:\n",
    "      print('Key is present in the dictionary')\n",
    "  else:\n",
    "      print('Key is not present in the dictionary')\n",
    "is_key_present(5)\n",
    "is_key_present(9)\n"
   ]
  },
  {
   "cell_type": "code",
   "execution_count": null,
   "metadata": {},
   "outputs": [],
   "source": []
  }
 ],
 "metadata": {
  "kernelspec": {
   "display_name": "Python 3",
   "language": "python",
   "name": "python3"
  },
  "language_info": {
   "codemirror_mode": {
    "name": "ipython",
    "version": 3
   },
   "file_extension": ".py",
   "mimetype": "text/x-python",
   "name": "python",
   "nbconvert_exporter": "python",
   "pygments_lexer": "ipython3",
   "version": "3.7.4"
  }
 },
 "nbformat": 4,
 "nbformat_minor": 2
}
